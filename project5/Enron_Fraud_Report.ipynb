{
 "cells": [
  {
   "cell_type": "markdown",
   "metadata": {
    "collapsed": true
   },
   "source": [
    "# Investigating Fraud from Enron Email Dataset\n",
    "\n",
    "#### By Huong Ivy Nguyen\n",
    "\n",
    "## Introduction:\n",
    "\n",
    "The name ‘Enron’ for this project came from the famous scandal ‘Enron scandal’  in the corporate world. It was also the name of an American energy, commodities, and services company based in Houston, Texas, Enron Corporate. Enron Corporation was founded in 1985 by Kenneth Lay after merging Houston Natural Gas and InterNorth before its bankruptcy on December 2, 2001.  After a a thorough investigation, it was revealed that the financial conditions of Enron was ran by institutionalized systematic planned accountant fraud, which is now known as the Enron scandal. This investigation also left behind a public large dataset of the company’s emails, which is known as the Enron Corpus. \n",
    "In this project, the emails and financial data of 146 executives will be investigated in order to identify the person of interest (POI) in the Enron fraud. A POI is defined as someone either was indicted for fraud, settled with the government, or testified in exchange for immunity.  \n",
    "In summary, there are 4 major steps in the overall project:\n",
    "+ Data exploration: identify and remove outliers\n",
    "+ Feature processing\n",
    "+ Algorithm Development\n",
    "+ Validation "
   ]
  },
  {
   "cell_type": "markdown",
   "metadata": {},
   "source": [
    "## Data Exploration\n",
    "\n",
    "To start, I would like to import all the necessary packages for the data analysis. "
   ]
  },
  {
   "cell_type": "code",
   "execution_count": 1,
   "metadata": {
    "collapsed": false
   },
   "outputs": [
    {
     "name": "stderr",
     "output_type": "stream",
     "text": [
      "/home/ives/anaconda3/envs/python27/lib/python2.7/site-packages/sklearn/cross_validation.py:44: DeprecationWarning: This module was deprecated in version 0.18 in favor of the model_selection module into which all the refactored classes and functions are moved. Also note that the interface of the new CV iterators are different from that of this module. This module will be removed in 0.20.\n",
      "  \"This module will be removed in 0.20.\", DeprecationWarning)\n",
      "/home/ives/anaconda3/envs/python27/lib/python2.7/site-packages/sklearn/grid_search.py:43: DeprecationWarning: This module was deprecated in version 0.18 in favor of the model_selection module into which all the refactored classes and functions are moved. This module will be removed in 0.20.\n",
      "  DeprecationWarning)\n"
     ]
    }
   ],
   "source": [
    "import random\n",
    "random.seed(123456789)\n",
    "import os\n",
    "os.chdir('/home/ives/Documents/ud_machine_learning/ud120-projects/final_project/')\n",
    "\n",
    "from IPython.display import Image\n",
    "import matplotlib.pyplot as plt\n",
    "%matplotlib inline \n",
    "import sys\n",
    "import pickle\n",
    "import numpy as np\n",
    "import pandas as pd\n",
    "from time import time\n",
    "from sklearn import preprocessing\n",
    "from sklearn.naive_bayes import GaussianNB\n",
    "from sklearn.metrics import accuracy_score\n",
    "from sklearn.grid_search import GridSearchCV\n",
    "from sklearn.metrics import precision_score\n",
    "from sklearn.metrics import recall_score\n",
    "\n",
    "\n",
    "sys.path.append(\"../tools/\")\n",
    "\n",
    "from feature_format import featureFormat\n",
    "from feature_format import targetFeatureSplit"
   ]
  },
  {
   "cell_type": "code",
   "execution_count": 2,
   "metadata": {
    "collapsed": true
   },
   "outputs": [],
   "source": [
    "### Load Enron dataset\n",
    "data_dict = pickle.load(open(\"final_project_dataset.pkl\", \"r\"))"
   ]
  },
  {
   "cell_type": "code",
   "execution_count": 3,
   "metadata": {
    "collapsed": false
   },
   "outputs": [
    {
     "name": "stdout",
     "output_type": "stream",
     "text": [
      "There are 146 executives in the Enron dataset.\n",
      "There are 21 features associated with each key in the Enron dictionary dataset.\n",
      "\n",
      "Of 146 records, 18 were labeled as person of interest (POI) and 128 were not labeled as POI.\n",
      "\n",
      "Features with NaN values are:\n",
      " + salary\n",
      " + to_messages\n",
      " + deferral_payments\n",
      " + total_payments\n",
      " + long_term_incentive\n",
      " + loan_advances\n",
      " + bonus\n",
      " + restricted_stock\n",
      " + restricted_stock_deferred\n",
      " + total_stock_value\n",
      " + shared_receipt_with_poi\n",
      " + from_poi_to_this_person\n",
      " + exercised_stock_options\n",
      " + from_messages\n",
      " + other\n",
      " + from_this_person_to_poi\n",
      " + deferred_income\n",
      " + expenses\n",
      " + email_address\n",
      " + director_fees\n"
     ]
    }
   ],
   "source": [
    "### Checking how many keys the dataset has\n",
    "print \"There are\", len(data_dict), \"executives in the Enron dataset.\"\n",
    "\n",
    "### Checking how many features each key has using 'ALLEN PHILLIP K' as a key.\n",
    "print \"There are\", len(data_dict['ALLEN PHILLIP K']), \"features associated with each key in the Enron dictionary dataset.\"\n",
    "\n",
    "### Checking how many data points were marked as POI and non-POI\n",
    "poi_list = 0\n",
    "non_poi_list = 0\n",
    "for key in data_dict:\n",
    "    if data_dict[key]['poi']:\n",
    "        poi_list +=1\n",
    "    else:\n",
    "        non_poi_list +=1\n",
    "        \n",
    "print \"\\nOf 146 records,\", poi_list, \"were labeled as person of interest (POI) and\", non_poi_list, \"were not labeled as POI.\"\n",
    "\n",
    "### Checking which features have NaN values:\n",
    "nan_features = []\n",
    "for key in data_dict:\n",
    "    for feature in data_dict[key]:\n",
    "        if data_dict[key][feature] == 'NaN':\n",
    "            nan_features.append(feature)\n",
    "nan_features = set(nan_features)\n",
    "\n",
    "print \"\\nFeatures with NaN values are:\"\n",
    "for feature in nan_features:\n",
    "    print \" +\", feature"
   ]
  },
  {
   "cell_type": "markdown",
   "metadata": {},
   "source": [
    "Since the ratio between POI and non-POI is highly skewed (18/128), class imbalance will be especially problematic when creating classification models for this dataset. This is because most machine learning algorithms work best when the number of classes are equivalent. Beyond that, there are 20 out of 21 features that have missing values. These features need special attention when processing the dataset. "
   ]
  },
  {
   "cell_type": "markdown",
   "metadata": {},
   "source": [
    "### Outliers Removal\n",
    "\n",
    "First, I would like to have a look at the correlation between two features: salary and bonus to identify if there is any outlier. If there are outliers, they will need to be removed before the data analysis can proceed further. "
   ]
  },
  {
   "cell_type": "code",
   "execution_count": 4,
   "metadata": {
    "collapsed": false
   },
   "outputs": [
    {
     "data": {
      "text/plain": [
       "<matplotlib.text.Text at 0x7fbd91c588d0>"
      ]
     },
     "execution_count": 4,
     "metadata": {},
     "output_type": "execute_result"
    },
    {
     "data": {
      "image/png": "[encoded data removed]",
      "text/plain": [
       "<matplotlib.figure.Figure at 0x7fbd93c79bd0>"
      ]
     },
     "metadata": {},
     "output_type": "display_data"
    }
   ],
   "source": [
    "features = ['salary', 'bonus']\n",
    "data = featureFormat(data_dict, features)\n",
    "\n",
    "### Create scatter plot\n",
    "for point in data:\n",
    "    salary = point[0]\n",
    "    bonus = point[1]\n",
    "    plt.scatter(salary, bonus, color = 'blue')\n",
    "\n",
    "plt.xlabel(\"salary\")\n",
    "plt.ylabel(\"bonus\")\n",
    "plt.title(\"Salary versus Bonus before removing outliers\")"
   ]
  },
  {
   "cell_type": "markdown",
   "metadata": {},
   "source": [
    "After plotting salary versus bonus, I noticed there are outliers within the dataset. This data point is way out of the regular range for both salary and bonus. This data point is actually the 'TOTAL' row in the spreadsheet, which is not necessary to be included in the dataset during my data analysis. So I chose to remove it and create my scatter plot again."
   ]
  },
  {
   "cell_type": "code",
   "execution_count": 5,
   "metadata": {
    "collapsed": false
   },
   "outputs": [
    {
     "data": {
      "text/plain": [
       "<matplotlib.text.Text at 0x7fbd91932650>"
      ]
     },
     "execution_count": 5,
     "metadata": {},
     "output_type": "execute_result"
    },
    {
     "data": {
      "image/png": "[encoded data removed]",
      "text/plain": [
       "<matplotlib.figure.Figure at 0x7fbd919da7d0>"
      ]
     },
     "metadata": {},
     "output_type": "display_data"
    }
   ],
   "source": [
    "data_dict.pop(\"TOTAL\",0)\n",
    "new_data = featureFormat(data_dict, features)\n",
    "\n",
    "### Create scatter plot\n",
    "for point in new_data:\n",
    "    salary = point[0]\n",
    "    bonus = point[1]\n",
    "    plt.scatter(salary, bonus, color = 'blue')\n",
    "\n",
    "plt.xlabel(\"salary\")\n",
    "plt.ylabel(\"bonus\")\n",
    "plt.title(\"Salary versus Bonus after removing outliers\")"
   ]
  },
  {
   "cell_type": "markdown",
   "metadata": {},
   "source": [
    "After removing \"TOTAL\" as an outlier out of my original dataset, I noticed that the new scatter plot now has additional outliers which have either a large salary or a large bonus. These outliers could potentially imply something else within the dataset (fraud detection) rather than just simply errors during the data entry process. In order to further investigate this fact, I extracted these 4 data points to see who they are represented. "
   ]
  },
  {
   "cell_type": "code",
   "execution_count": 6,
   "metadata": {
    "collapsed": false,
    "scrolled": true
   },
   "outputs": [
    {
     "name": "stdout",
     "output_type": "stream",
     "text": [
      "[('SKILLING JEFFREY K', 1111258, 5600000), ('LAY KENNETH L', 1072321, 7000000), ('FREVERT MARK A', 1060932, 2000000), ('PICKERING MARK R', 655037, 300000)]\n",
      "[('LAVORATO JOHN J', 339288, 8000000), ('LAY KENNETH L', 1072321, 7000000), ('SKILLING JEFFREY K', 1111258, 5600000), ('BELDEN TIMOTHY N', 213999, 5249999)]\n"
     ]
    }
   ],
   "source": [
    "outliers = []\n",
    "\n",
    "###remove all NaN data points\n",
    "for key in data_dict:\n",
    "    val1 = data_dict[key]['salary']\n",
    "    val2 = data_dict[key]['bonus']\n",
    "    if val1 != 'NaN' and val2 != 'NaN':\n",
    "        outliers.append((key,val1,val2))\n",
    "\n",
    "outliers_final_salary = (sorted(outliers,key=lambda x:x[1],reverse=True)[:4])\n",
    "outliers_final_bonus = (sorted(outliers,key=lambda x:x[2],reverse=True)[:4])\n",
    "### print top 4 salaries and top 4 bonuses\n",
    "print outliers_final_salary\n",
    "print outliers_final_bonus"
   ]
  },
  {
   "cell_type": "markdown",
   "metadata": {},
   "source": [
    "After looking at my top 4 salaries and top 4 bonuses, I noticed Kenneth Lay and Jeffrey Skilling both have really high salaries and bonuses. In addition to these two, while Mark Frevert and Mark Pickering have an extremely high salary, John Lavorato and Timothy Belden are the ones with a ridiculous amount of bonuses. As I looked up what their roles were in Enron, I realized that these data points are not indeed mistakes since Kenneth Lay and Jeffrey SKilling both hold high positions within the company. That fact confirms that these values are real and actually they are already a sign of these two managers being involved in the fraud. "
   ]
  },
  {
   "cell_type": "markdown",
   "metadata": {},
   "source": [
    "## Feature Processing"
   ]
  },
  {
   "cell_type": "markdown",
   "metadata": {},
   "source": [
    "After cleaning my dataset from outliers, I had to pick the most sensible features to use. I picked 'from_poi_to_this_person' and 'from_this_person_to_poi' to generate a scatter plot in order to determine if there is any strong correlation between these two features. "
   ]
  },
  {
   "cell_type": "code",
   "execution_count": 7,
   "metadata": {
    "collapsed": false
   },
   "outputs": [
    {
     "data": {
      "text/plain": [
       "<matplotlib.text.Text at 0x7fbd91716810>"
      ]
     },
     "execution_count": 7,
     "metadata": {},
     "output_type": "execute_result"
    },
    {
     "data": {
      "image/png": "[encoded data removed]",
      "text/plain": [
       "<matplotlib.figure.Figure at 0x7fbd916f8d90>"
      ]
     },
     "metadata": {},
     "output_type": "display_data"
    }
   ],
   "source": [
    "for key in data_dict:\n",
    "    val1 = data_dict[key]['from_poi_to_this_person']\n",
    "    val2 = data_dict[key]['from_this_person_to_poi']\n",
    "    plt.scatter(val1, val2, color = 'blue')\n",
    "plt.xlabel('# emails from poi to this person')\n",
    "plt.ylabel('# emails from this person to poi')"
   ]
  },
  {
   "cell_type": "markdown",
   "metadata": {},
   "source": [
    "There isn't a strong correlation that was obtained from the 'from_poi_to_this_person' and 'from_this_person_to_poi' features so I had to create new features. I chose to use fractions for both features of “from/to poi messages” and “total from/to messages” as my new generated features for this dataset.The new features are named:\n",
    "+ fraction_to_poi_email, which was calculated by dividing the 'from_this_person_to_poi' by 'from_messages'\n",
    "+ fraction_from_poi_email, which was calculated by diviing the 'from_poi_to_this_person' by \"to_messages'"
   ]
  },
  {
   "cell_type": "code",
   "execution_count": 8,
   "metadata": {
    "collapsed": false
   },
   "outputs": [
    {
     "data": {
      "image/png": "[encoded data removed]",
      "text/plain": [
       "<matplotlib.figure.Figure at 0x7fbd91371dd0>"
      ]
     },
     "metadata": {},
     "output_type": "display_data"
    }
   ],
   "source": [
    "### define normalizing function to create new features\n",
    "def normalizing(key, normalizer):\n",
    "    new_list = []\n",
    "    for point in data_dict:\n",
    "        if data_dict[point][key] == 'NaN' or data_dict[point][normalizer] == 'NaN':\n",
    "            new_list.append(0.)\n",
    "        else:\n",
    "            new_key = float(data_dict[point][key])/float(data_dict[point][normalizer])\n",
    "            new_list.append(new_key)\n",
    "    return new_list\n",
    "\n",
    "### Create new features: fraction_to_poi_email,fraction_from_poi_email\n",
    "fraction_from_poi_email = normalizing('from_poi_to_this_person', 'to_messages')\n",
    "fraction_to_poi_email = normalizing('from_this_person_to_poi', 'from_messages')\n",
    "\n",
    "### insert new features into data_dict\n",
    "count = 0\n",
    "for key in data_dict:\n",
    "    data_dict[key]['fraction_from_poi_email'] = fraction_from_poi_email[count]\n",
    "    data_dict[key]['fraction_to_poi_email'] = fraction_to_poi_email[count]\n",
    "    count +=1\n",
    "\n",
    "features_list = [\"poi\", \"fraction_from_poi_email\", \"fraction_to_poi_email\"]    \n",
    "\n",
    "### Create new dataset with the specified feature, the returned result should be a numpy array\n",
    "new_data_with_fraction = featureFormat(data_dict, features_list)\n",
    "\n",
    "### plot new features\n",
    "from_poi = []\n",
    "to_poi = []\n",
    "poi_x = []\n",
    "poi_y = []\n",
    "for point in new_data_with_fraction:\n",
    "    from_poi.append(point[1])\n",
    "    to_poi.append(point[2])\n",
    "    if point[0] == 1: #Identify the poi on the plot versus with other points\n",
    "        poi_x.append(point[1])\n",
    "        poi_y.append(point[2])\n",
    "\n",
    "fig, ax = plt.subplots()\n",
    "ax.scatter(from_poi, to_poi, label='Non-POI', color = 'blue')\n",
    "ax.scatter(poi_x, poi_y, label='POI', color = 'red')      \n",
    "plt.xlabel(\"fraction of emails this person gets from poi\")\n",
    "plt.ylabel(\"fraction of email from this person to poi\")\n",
    "plt.title(\"fraction of email from and to this person\")  \n",
    "plt.legend()\n",
    "plt.show()"
   ]
  },
  {
   "cell_type": "markdown",
   "metadata": {},
   "source": [
    "In order to find the most effective features for identifying the POI, feature selection process was completed using Decision Tree classifier. The importance of each feature is calculated and ranked. Some of the features were omitted since they don't provide any extra information such as others. Features that were used to calculated other features such as to_messages or from_messages were also omitted. "
   ]
  },
  {
   "cell_type": "code",
   "execution_count": 9,
   "metadata": {
    "collapsed": false
   },
   "outputs": [
    {
     "name": "stdout",
     "output_type": "stream",
     "text": [
      "Decision tree algorithm time: 0.001 s\n",
      "Accuracy is 0.6\n",
      "('shared_receipt_with_poi', 0.18161490683229806)\n",
      "('fraction_to_poi_email', 0.15829098437794106)\n",
      "('deferred_income', 0.14622972934993392)\n",
      "('total_stock_value', 0.12090173025732028)\n",
      "('deferral_payments', 0.11833731485905398)\n",
      "('restricted_stock', 0.091127677779186206)\n",
      "('expenses', 0.087979539641943674)\n",
      "('exercised_stock_options', 0.074533201196910162)\n",
      "('total_payments', 0.02098491570541262)\n",
      "('salary', 0.0)\n",
      "('loan_advances', 0.0)\n",
      "('bonus', 0.0)\n",
      "('restricted_stock_deferred', 0.0)\n",
      "('long_term_incentive', 0.0)\n",
      "('director_fees', 0.0)\n",
      "('fraction_from_poi_email', 0.0)\n"
     ]
    }
   ],
   "source": [
    "### The following features were omitted: others, to_messages, from_messages, from_poi_to_this_person, \n",
    "### from_this_person_to_poi, email_addresses. \n",
    "\n",
    "financial_features = ['salary', 'deferral_payments', 'total_payments', 'loan_advances', 'bonus', \n",
    "                     'restricted_stock_deferred','deferred_income', 'total_stock_value','expenses', \n",
    "                     'exercised_stock_options','long_term_incentive', 'restricted_stock', 'director_fees']\n",
    "email_features = ['shared_receipt_with_poi']\n",
    "\n",
    "new_features = ['fraction_from_poi_email', 'fraction_to_poi_email']\n",
    "    \n",
    "features_list = ['poi'] + financial_features + email_features + new_features ### Add poi as the first feature for later splitting purpose\n",
    "\n",
    "###Generate a numpy array data with all the listed features using FeatureFormat function\n",
    "\n",
    "data = featureFormat(data_dict, features_list)\n",
    "\n",
    "### Split the generated numpy array data into labels and features using targetFeatureSplit\n",
    "### The first feature in the array must be the poi label since targetFeatureSplit assumes that is the target while\n",
    "### the others are features that are used to predict the labels\n",
    "\n",
    "labels, features = targetFeatureSplit(data)\n",
    "\n",
    "### Split data into training and testing datasets using 10% as benchmark\n",
    "from sklearn import cross_validation\n",
    "features_train, features_test, labels_train, labels_test = cross_validation.train_test_split(features, labels, test_size = 0.1, random_state = 42)\n",
    "\n",
    "### Generate a decision tree classifier\n",
    "from sklearn.tree import DecisionTreeClassifier\n",
    "\n",
    "t0 = time() #Timing the classification process\n",
    "\n",
    "clf = DecisionTreeClassifier()\n",
    "clf.fit(features_train, labels_train)\n",
    "pred = clf.predict(features_test)\n",
    "\n",
    "t1 = time() - t0\n",
    "print \"Decision tree algorithm time:\", round(t1, 3), \"s\"\n",
    "\n",
    "from sklearn.metrics import accuracy_score\n",
    "accuracy = accuracy_score(pred, labels_test)\n",
    "print \"Accuracy is\", accuracy\n",
    "### Rank features based on their importance, which is computed as the total reduction of the criterion \n",
    "### brought by that particular feature.\n",
    "\n",
    "importances = clf.feature_importances_\n",
    "\n",
    "importances_list = []\n",
    "count = 0\n",
    "features = financial_features + email_features + new_features\n",
    "\n",
    "for feature in features:\n",
    "    importances_list.append((feature,importances[count]))\n",
    "    count +=1\n",
    "\n",
    "new_importances_list = sorted(importances_list, key=lambda x:x[1], reverse=True)\n",
    "for i in new_importances_list:\n",
    "    print i"
   ]
  },
  {
   "cell_type": "markdown",
   "metadata": {},
   "source": [
    "Using the results obtained from the importance list, I picked the following features: excercised_stock_options, fraction_to_poi_email,deferred_income, expenses, deferral_payments, shared_receipt_with_poi, bonus, restricted_stock, and salary. The accuracy for this set is 0.8 as shown below."
   ]
  },
  {
   "cell_type": "code",
   "execution_count": 10,
   "metadata": {
    "collapsed": false
   },
   "outputs": [
    {
     "name": "stdout",
     "output_type": "stream",
     "text": [
      "Decision tree algorithm time: 0.001 s\n",
      "Accuracy is 0.866666666667\n",
      "Precision is 0.0\n",
      "Recall is 0.0\n"
     ]
    }
   ],
   "source": [
    "new_features_list = ['poi', 'exercised_stock_options', 'fraction_to_poi_email', 'deferred_income','expenses',\n",
    "                    'deferral_payments', 'shared_receipt_with_poi', 'bonus', 'restricted_stock', 'salary']\n",
    "\n",
    "data = featureFormat(data_dict, new_features_list)\n",
    "\n",
    "labels, features = targetFeatureSplit(data)\n",
    "\n",
    "### Split data into training and testing datasets using 10% as benchmark\n",
    "from sklearn import cross_validation\n",
    "features_train, features_test, labels_train, labels_test = cross_validation.train_test_split(features, labels, test_size = 0.1, random_state = 42)\n",
    "\n",
    "### Generate a decision tree classifier\n",
    "from sklearn.tree import DecisionTreeClassifier\n",
    "\n",
    "t0 = time() #Timing the classification process\n",
    "\n",
    "clf = DecisionTreeClassifier()\n",
    "clf.fit(features_train, labels_train)\n",
    "pred = clf.predict(features_test)\n",
    "\n",
    "t1 = time() - t0\n",
    "print \"Decision tree algorithm time:\", round(t1, 3), \"s\"\n",
    "\n",
    "from sklearn.metrics import accuracy_score, precision_score, recall_score\n",
    "accuracy = accuracy_score(pred, labels_test)\n",
    "precision = precision_score(pred, labels_test)\n",
    "recall = recall_score(pred, labels_test)\n",
    "print \"Accuracy is\", accuracy\n",
    "print \"Precision is\", precision\n",
    "print \"Recall is\", recall"
   ]
  },
  {
   "cell_type": "markdown",
   "metadata": {},
   "source": [
    "Even though my accuracy was increased by using this new feature set, my precision and recall scores are very low, which means my classifier needs further attention in term of choosing the correct features. From here, I cannot rely on accuracy score for my dataset; instead, I chose to use SelectKBest from feature_selection module to select the best features for my classifier. In order to optimize what the best k value to use for SelectKBest, several k values were used to choose the number of features needed."
   ]
  },
  {
   "cell_type": "code",
   "execution_count": 11,
   "metadata": {
    "collapsed": false
   },
   "outputs": [
    {
     "name": "stderr",
     "output_type": "stream",
     "text": [
      "/home/ives/anaconda3/envs/python27/lib/python2.7/site-packages/sklearn/metrics/classification.py:1113: UndefinedMetricWarning: Precision is ill-defined and being set to 0.0 due to no predicted samples.\n",
      "  'precision', 'predicted', average, warn_for)\n"
     ]
    },
    {
     "data": {
      "image/png": "[encoded data removed]",
      "text/plain": [
       "<matplotlib.figure.Figure at 0x7fbd90098410>"
      ]
     },
     "metadata": {},
     "output_type": "display_data"
    }
   ],
   "source": [
    "from sklearn.feature_selection import SelectKBest\n",
    "\n",
    "### define k_best function\n",
    "def get_k_best(data_dict, features_list, k):\n",
    "    data = featureFormat(data_dict, features_list)\n",
    "    labels, features = targetFeatureSplit(data)\n",
    "    \n",
    "    k_best = SelectKBest(k=k)\n",
    "    k_best.fit(features, labels)\n",
    "    scores = k_best.scores_\n",
    "    unsorted_pairs = zip(features_list[1:], scores)\n",
    "    sorted_pairs = list(sorted(unsorted_pairs, key=lambda x: x[1], reverse=True))\n",
    "    k_best_features = dict(sorted_pairs[:k])\n",
    "    return k_best_features\n",
    "\n",
    "### Optimize k value\n",
    "k_values = range(2,17,1)\n",
    "accuracy_scores = []\n",
    "precision_scores = []\n",
    "recall_scores = []\n",
    "\n",
    "for k in k_values:\n",
    "    precisions = []\n",
    "    accuracies = []\n",
    "    recalls = []\n",
    "    for i in range(1000):\n",
    "        k_best = get_k_best(data_dict, features_list, k)\n",
    "        new_features = ['poi'] + list(k_best.keys())\n",
    "        data = featureFormat(data_dict, new_features)\n",
    "        labels, features = targetFeatureSplit(data)\n",
    "        features_train, features_test, labels_train,\\\n",
    "        labels_test = cross_validation.train_test_split(features, labels, test_size = 0.1, random_state = 42)\n",
    "        clf.fit(features_train, labels_train)\n",
    "        predict = clf.predict(features_test)\n",
    "        accuracy = accuracy_score(predict, labels_test)\n",
    "        precision = precision_score(predict, labels_test)\n",
    "        recall = recall_score(predict, labels_test)\n",
    "        accuracies.append(accuracy)\n",
    "        precisions.append(precision)\n",
    "        recalls.append(recall)\n",
    "\n",
    "    accuracy_scores.append(np.mean(accuracies))\n",
    "    precision_scores.append(np.mean(precisions))\n",
    "    recall_scores.append(np.mean(recalls))\n",
    "\n",
    "fig, ax = plt.subplots()\n",
    "ax.plot(k_values, accuracy_scores, label = \"accuracy score\", color = 'blue', marker ='o')\n",
    "ax.plot(k_values, precision_scores, label = \"precision score\", color = 'red', marker = 'o')\n",
    "ax.plot(k_values, recall_scores, label = \"recall score\", color = \"green\", marker = 'o')\n",
    "     \n",
    "plt.xlabel(\"Number of k best features\")\n",
    "plt.ylabel(\"Score\")\n",
    "plt.title(\"Accuracy, Precision, and Recall versus Number of K-best Features\")  \n",
    "plt.legend()\n",
    "plt.show()"
   ]
  },
  {
   "cell_type": "markdown",
   "metadata": {},
   "source": [
    "According to the generated plot above (Accuracy, Precision, and Recall versus Number of K-best features), the highest precision and recall scores would be obtained when using either k=3, k=5, or k in the range from 10 to 15. I chose to use k=10 to establish a new feature set."
   ]
  },
  {
   "cell_type": "code",
   "execution_count": 12,
   "metadata": {
    "collapsed": false
   },
   "outputs": [
    {
     "name": "stdout",
     "output_type": "stream",
     "text": [
      "New accuracy score is 0.666666666667\n",
      "New precision score is 0.5\n",
      "New recall score is 0.2\n"
     ]
    }
   ],
   "source": [
    "k_best = get_k_best(data_dict, features_list, 10)\n",
    "new_features = ['poi'] + list(k_best.keys())\n",
    "data = featureFormat(data_dict, new_features)\n",
    "\n",
    "###Create label and feature sets, these sets will be used for the rest of the project\n",
    "labels, features = targetFeatureSplit(data)\n",
    "features_train, features_test, labels_train,labels_test = cross_validation.train_test_split(features, labels, test_size = 0.1)\n",
    "clf = DecisionTreeClassifier()\n",
    "clf.fit(features_train, labels_train)\n",
    "predict = clf.predict(features_test)\n",
    "accuracy = accuracy_score(predict, labels_test)\n",
    "precision = precision_score(predict, labels_test)\n",
    "recall = recall_score(predict, labels_test)\n",
    "\n",
    "print \"New accuracy score is\", accuracy\n",
    "print \"New precision score is\", precision\n",
    "print \"New recall score is\", recall"
   ]
  },
  {
   "cell_type": "markdown",
   "metadata": {},
   "source": [
    "## Algorithm and Tunning\n",
    "### Choosing an algorithm"
   ]
  },
  {
   "cell_type": "markdown",
   "metadata": {},
   "source": [
    "I decided to test 5 different algorithms Naive Bayes,Decision Tree, KMean Cluserting, Adaboost, and SVM to determine which one would be best for my dataset. After finding out the best algorithm to use, I tuned their behavior with different parameters such as n_clusters and max_iter in the case of KMeans.\n",
    "\n",
    "Parameter tunning is important and necessary since this process can help to improve the performance of the algorithm significantly. In an abstract sense of machine learning, tuning is considered as working with the datatset while using different parameters that were previously defined in the algorithm to obtain the best results (or metrics such as precision or recall score) for the model. Tuning can absolutely increase or decrease the level of complexity of the model. However, to compensate for that complexity, a better result of metrics can be obtained. An ideal scenerio is when the tunning process gives the best metrics without using lots of features such as in this study. "
   ]
  },
  {
   "cell_type": "code",
   "execution_count": 13,
   "metadata": {
    "collapsed": false
   },
   "outputs": [
    {
     "name": "stdout",
     "output_type": "stream",
     "text": [
      "Running: GaussianNB(priors=None)\n"
     ]
    },
    {
     "name": "stderr",
     "output_type": "stream",
     "text": [
      "/home/ives/anaconda3/envs/python27/lib/python2.7/site-packages/sklearn/metrics/classification.py:1115: UndefinedMetricWarning: Recall is ill-defined and being set to 0.0 due to no true samples.\n",
      "  'recall', 'true', average, warn_for)\n"
     ]
    },
    {
     "name": "stdout",
     "output_type": "stream",
     "text": [
      "Running: DecisionTreeClassifier(class_weight=None, criterion='gini', max_depth=None,\n",
      "            max_features=None, max_leaf_nodes=None,\n",
      "            min_impurity_split=1e-07, min_samples_leaf=1,\n",
      "            min_samples_split=2, min_weight_fraction_leaf=0.0,\n",
      "            presort=False, random_state=42, splitter='best')\n",
      "Running: KMeans(algorithm='auto', copy_x=True, init='k-means++', max_iter=300,\n",
      "    n_clusters=2, n_init=10, n_jobs=1, precompute_distances='auto',\n",
      "    random_state=42, tol=0.0001, verbose=0)\n",
      "Running: AdaBoostClassifier(algorithm='SAMME', base_estimator=None, learning_rate=1.0,\n",
      "          n_estimators=50, random_state=42)\n",
      "Running: SVC(C=10000, cache_size=200, class_weight=None, coef0=0.0,\n",
      "  decision_function_shape=None, degree=3, gamma='auto', kernel='rbf',\n",
      "  max_iter=-1, probability=False, random_state=42, shrinking=True,\n",
      "  tol=0.001, verbose=False)\n"
     ]
    }
   ],
   "source": [
    "precision_scores = []\n",
    "recall_scores = []\n",
    "\n",
    "def evaluation (clf, features, labels, n = 1000): #Using the best 5 k features chosen from the previous section\n",
    "    print \"Running:\", clf\n",
    "    precisions = []\n",
    "    recalls = []\n",
    "    for i in range(n):\n",
    "        features_train, features_test, labels_train, labels_test = \\\n",
    "        cross_validation.train_test_split(features, labels, test_size = 0.1)\n",
    "        clf.fit(features_train, labels_train)\n",
    "        predict = clf.predict(features_test)\n",
    "        precision = precision_score(predict, labels_test)\n",
    "        recall = recall_score(predict, labels_test)\n",
    "        precisions.append(precision)\n",
    "        recalls.append(recall)\n",
    "    precision_scores.append(np.mean(precisions))\n",
    "    recall_scores.append(np.mean(recalls))\n",
    "    return np.mean(precisions), np.mean(recalls)\n",
    "\n",
    "\n",
    "###Test Naive Bayes algorithm\n",
    "from sklearn.naive_bayes import GaussianNB\n",
    "NB_clf = GaussianNB()\n",
    "NB_precision, NB_recall = evaluation(NB_clf, features, labels)\n",
    "\n",
    "###Test Decision Tree algorithm\n",
    "tree_clf = DecisionTreeClassifier(random_state = 42)\n",
    "tree_precision, tree_recall = evaluation(tree_clf, features, labels)\n",
    "\n",
    "###Test K_Means clustering\n",
    "from sklearn.cluster import KMeans\n",
    "k_clf = KMeans(n_clusters = 2,random_state = 42)\n",
    "k_precision, k_recall = evaluation(k_clf, features, labels)\n",
    "\n",
    "###Test Adaboost clearning\n",
    "from sklearn.ensemble import AdaBoostClassifier\n",
    "a_clf = AdaBoostClassifier(algorithm = 'SAMME',random_state = 42)\n",
    "a_precision, a_recall = evaluation(a_clf, features, labels)\n",
    "\n",
    "###Test Vector Machine Classifier\n",
    "from sklearn.svm import SVC\n",
    "s_clf = SVC(kernel = 'rbf', C=10000,random_state = 42)\n",
    "s_precision, s_recall = evaluation(s_clf, features, labels)\n",
    "\n",
    "scores_dict = {'algorithm': ['Naive Bayes', 'Decision Tree', 'KMeans Clustering', 'Adaboost', 'SVM'], \n",
    "              'precision score': precision_scores, 'recall score': recall_scores}"
   ]
  },
  {
   "cell_type": "code",
   "execution_count": 14,
   "metadata": {
    "collapsed": false
   },
   "outputs": [
    {
     "name": "stdout",
     "output_type": "stream",
     "text": [
      "           algorithm  precision score  recall score\n",
      "0        Naive Bayes         0.273317      0.301293\n",
      "1      Decision Tree         0.263002      0.247731\n",
      "2  KMeans Clustering         0.068333      0.082062\n",
      "3           Adaboost         0.229050      0.308379\n",
      "4                SVM         0.000000      0.000000\n"
     ]
    }
   ],
   "source": [
    "### Generate a dataframe using precision scores and recall scores\n",
    "scores_df = pd.DataFrame.from_dict(scores_dict)\n",
    "print scores_df"
   ]
  },
  {
   "cell_type": "markdown",
   "metadata": {},
   "source": [
    "Based on the results from the list of precision scores and recall scores, all algorithms but SVM will work with the given dataset. I chose to use Decision Tree classifier algorithm for my dataset and tune its behaviors by optimizing different different parameters such as min_samples_split and max_features.\n",
    "\n",
    "### Tuning  parameters for Decision Tree Classifier"
   ]
  },
  {
   "cell_type": "code",
   "execution_count": 15,
   "metadata": {
    "collapsed": false
   },
   "outputs": [
    {
     "name": "stdout",
     "output_type": "stream",
     "text": [
      "The best parameters to be used for Decision Tree are: {'min_samples_split': 10, 'max_depth': 5}\n"
     ]
    }
   ],
   "source": [
    "###Obtain best parameters for Decision Tree by using GridSearchCV\n",
    "\n",
    "parameters = {'min_samples_split': [10,20], \n",
    "             'max_depth':[5,10]}\n",
    "tree_clf = DecisionTreeClassifier()\n",
    "clf = GridSearchCV(tree_clf, parameters)\n",
    "clf.fit(features_train, labels_train)\n",
    "print \"The best parameters to be used for Decision Tree are:\", clf.best_params_"
   ]
  },
  {
   "cell_type": "code",
   "execution_count": 16,
   "metadata": {
    "collapsed": false
   },
   "outputs": [
    {
     "name": "stdout",
     "output_type": "stream",
     "text": [
      "Precision and recall after parameter tuning for Decision Tree classifier are 0.651923076923 0.808636363636 respectively.\n"
     ]
    }
   ],
   "source": [
    "###Running the algorithm 1000 times with the new parameters to \n",
    "###find new average precision score and average recall score\n",
    "\n",
    "tuned_precisions = []\n",
    "tuned_recalls = []\n",
    "\n",
    "for i in range(1000):\n",
    "    tree_clf = DecisionTreeClassifier(min_samples_split = 20, max_depth = 5)\n",
    "    tree_clf.fit(features_train, labels_train)\n",
    "    predict = tree_clf.predict(features_test)\n",
    "    tuned_precision = precision_score(predict, labels_test, average=None)[0]\n",
    "    tuned_recall = recall_score(predict, labels_test, average=None)[0]\n",
    "    tuned_precisions.append(tuned_precision)\n",
    "    tuned_recalls.append(tuned_recall)\n",
    "\n",
    "print \"Precision and recall after parameter tuning for Decision Tree classifier are\", np.mean(tuned_precisions), np.mean(tuned_recalls), \"respectively.\""
   ]
  },
  {
   "cell_type": "markdown",
   "metadata": {},
   "source": [
    "## Analysis Validation and Performance\n",
    "\n",
    "In machine learning, validation is performed to ensure an algorithm generalizes well with a dataset. The most common mistake during this process is over-fitting, meaning the algorithm works well on the training set but not on the testing set. In order to validate the algorithm, I chose to tune the min_samples_split paramter which was found to be at its best perfomance from 10 and split my dataset using StratifiedKFold. "
   ]
  },
  {
   "cell_type": "code",
   "execution_count": 17,
   "metadata": {
    "collapsed": false
   },
   "outputs": [
    {
     "name": "stdout",
     "output_type": "stream",
     "text": [
      "average precision:  0.890151515152\n",
      "average recall:  0.960317460317\n",
      "average accuracies 0.861111111111\n"
     ]
    },
    {
     "name": "stderr",
     "output_type": "stream",
     "text": [
      "/home/ives/anaconda3/envs/python27/lib/python2.7/site-packages/sklearn/metrics/classification.py:1113: UndefinedMetricWarning: Precision is ill-defined and being set to 0.0 in labels with no predicted samples.\n",
      "  'precision', 'predicted', average, warn_for)\n"
     ]
    }
   ],
   "source": [
    "### Using KFold for splitting and validate the chosen algorithm with the tuned parameters\n",
    "\n",
    "from sklearn.cross_validation import StratifiedKFold\n",
    "skf = StratifiedKFold(labels, n_folds=3 )\n",
    "precisions = []\n",
    "recalls = []\n",
    "accuracies = []\n",
    "for train_idx, test_idx in skf:\n",
    "    features_train = []\n",
    "    features_test  = []\n",
    "    labels_train   = []\n",
    "    labels_test    = []\n",
    "    for ii in train_idx:\n",
    "        features_train.append( features[ii] )\n",
    "        labels_train.append( labels[ii] )\n",
    "    for jj in test_idx:\n",
    "        features_test.append( features[jj] )\n",
    "        labels_test.append( labels[jj] )\n",
    "    ## Fitting training set using KMeans clustering\n",
    "    clf = DecisionTreeClassifier(min_samples_split = 20, max_depth = 5)\n",
    "    clf.fit(features_train, labels_train)\n",
    "    pred = clf.predict(features_test)\n",
    "    accuracy = accuracy_score(pred, labels_test)\n",
    "    precision = precision_score(labels_test,pred, average=None)[0]\n",
    "    recall = recall_score(labels_test,pred, average=None)[0]\n",
    "    precisions.append(precision)\n",
    "    recalls.append(recall)\n",
    "    accuracies.append(accuracy)\n",
    "\n",
    "print \"average precision: \", sum(precisions)/3.\n",
    "print \"average recall: \", sum(recalls)/3.\n",
    "print \"average accuracies\", sum(accuracies)/3.\n",
    "    \n",
    "\n",
    "### dump your classifier, dataset and features_list so\n",
    "### anyone can run/check your results\n",
    "pickle.dump(clf, open(\"my_classifier.pkl\", \"w\") )\n",
    "pickle.dump(data_dict, open(\"my_dataset.pkl\", \"w\") )\n",
    "pickle.dump(features_list, open(\"my_feature_list.pkl\", \"w\") )"
   ]
  },
  {
   "cell_type": "markdown",
   "metadata": {},
   "source": [
    "The main metrics that were used for evaluation are precision, recall, and accuracy. Precision captures the ratio of true positives to the records that are actually true (POIs in this case), meaning the likelihood that a person who is identified as a POI is actually a true POI. Recall score captures the ratio of true positives to the records that flagged POIs, meaning how likely it is that identifier will flag a POI in the test set. Accuracy was calculated for reference here; however it should not be used since this dataset only has 18 data points of POI. "
   ]
  },
  {
   "cell_type": "markdown",
   "metadata": {},
   "source": [
    "## Conclusion\n",
    "\n",
    "+ As mentioned previously, the precision score can be considered as the likelihood that a person who is identified as a POI is actually a true POI. The average precision score for my algorithm is 0.89, it means that using this identifier to flag POI’s would result in 11% of the positive flags being false alarms.  \n",
    "+ Recall captures how likely it is for the identifier to flag a POI in the test set. The average recall score for my algorithm is 0.96, that means that there is a 4% chance of the time it would catch that person, and 78% of the time it wouldn’t.\n",
    "\n",
    "The most challenging aspect of this project was the sparse nature of the dataset, only 18 data points were labeled as POI. If the classes are more balanced, the algorithm should be able to perform better. The numbers obtained from this study still need further improvement.One of the possible paths to improvement is to generate more new features that involves more in the financial dataset. For example, I could generate a net_worth feature which would sum up  exercised_stock_options, salary, and total_stock_value to capture how much wealth that particular individual had."
   ]
  }
 ],
 "metadata": {
  "anaconda-cloud": {},
  "kernelspec": {
   "display_name": "Python 2",
   "language": "python",
   "name": "python2"
  },
  "language_info": {
   "codemirror_mode": {
    "name": "ipython",
    "version": 2
   },
   "file_extension": ".py",
   "mimetype": "text/x-python",
   "name": "python",
   "nbconvert_exporter": "python",
   "pygments_lexer": "ipython2",
   "version": "2.7.13"
  }
 },
 "nbformat": 4,
 "nbformat_minor": 1
}
